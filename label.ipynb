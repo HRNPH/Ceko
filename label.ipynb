{
 "cells": [
  {
   "cell_type": "code",
   "execution_count": null,
   "metadata": {},
   "outputs": [],
   "source": [
    "# root ./\n",
    "import pandas as pd\n",
    "import numpy as np\n",
    "import os\n",
    "from tqdm import tqdm"
   ]
  },
  {
   "cell_type": "code",
   "execution_count": 25,
   "metadata": {},
   "outputs": [
    {
     "name": "stderr",
     "output_type": "stream",
     "text": [
      "100%|██████████| 2/2 [00:01<00:00,  1.66it/s]\n"
     ]
    }
   ],
   "source": [
    "data_dir = pd.DataFrame(columns=['page', 'path', 'story']) \n",
    "# os walk\n",
    "for story in tqdm(os.listdir(\"./Manganelo-Manga-Downloader/Download\")):\n",
    "    for chapter in os.listdir(\"./Manganelo-Manga-Downloader/Download/\" + story):\n",
    "        for page in os.listdir(\"./Manganelo-Manga-Downloader/Download/\" + story + \"/\" + chapter):\n",
    "            data_dir = data_dir.append({'page': page, 'path': \"./Manganelo-Manga-Downloader/Download/\" + story + \"/\" + chapter + \"/\" + page, 'story': story}, ignore_index=True)"
   ]
  },
  {
   "cell_type": "code",
   "execution_count": 26,
   "metadata": {},
   "outputs": [
    {
     "data": {
      "text/html": [
       "<div>\n",
       "<style scoped>\n",
       "    .dataframe tbody tr th:only-of-type {\n",
       "        vertical-align: middle;\n",
       "    }\n",
       "\n",
       "    .dataframe tbody tr th {\n",
       "        vertical-align: top;\n",
       "    }\n",
       "\n",
       "    .dataframe thead th {\n",
       "        text-align: right;\n",
       "    }\n",
       "</style>\n",
       "<table border=\"1\" class=\"dataframe\">\n",
       "  <thead>\n",
       "    <tr style=\"text-align: right;\">\n",
       "      <th></th>\n",
       "      <th>page</th>\n",
       "      <th>path</th>\n",
       "      <th>story</th>\n",
       "    </tr>\n",
       "  </thead>\n",
       "  <tbody>\n",
       "    <tr>\n",
       "      <th>0</th>\n",
       "      <td>1.jpg</td>\n",
       "      <td>./Manganelo-Manga-Downloader/Download/Dear Tyr...</td>\n",
       "      <td>Dear Tyrant</td>\n",
       "    </tr>\n",
       "    <tr>\n",
       "      <th>1</th>\n",
       "      <td>10.jpg</td>\n",
       "      <td>./Manganelo-Manga-Downloader/Download/Dear Tyr...</td>\n",
       "      <td>Dear Tyrant</td>\n",
       "    </tr>\n",
       "    <tr>\n",
       "      <th>2</th>\n",
       "      <td>11.jpg</td>\n",
       "      <td>./Manganelo-Manga-Downloader/Download/Dear Tyr...</td>\n",
       "      <td>Dear Tyrant</td>\n",
       "    </tr>\n",
       "    <tr>\n",
       "      <th>3</th>\n",
       "      <td>12.jpg</td>\n",
       "      <td>./Manganelo-Manga-Downloader/Download/Dear Tyr...</td>\n",
       "      <td>Dear Tyrant</td>\n",
       "    </tr>\n",
       "    <tr>\n",
       "      <th>4</th>\n",
       "      <td>13.jpg</td>\n",
       "      <td>./Manganelo-Manga-Downloader/Download/Dear Tyr...</td>\n",
       "      <td>Dear Tyrant</td>\n",
       "    </tr>\n",
       "    <tr>\n",
       "      <th>...</th>\n",
       "      <td>...</td>\n",
       "      <td>...</td>\n",
       "      <td>...</td>\n",
       "    </tr>\n",
       "    <tr>\n",
       "      <th>56</th>\n",
       "      <td>7.jpg</td>\n",
       "      <td>./Manganelo-Manga-Downloader/Download/Dear Tyr...</td>\n",
       "      <td>Dear Tyrant</td>\n",
       "    </tr>\n",
       "    <tr>\n",
       "      <th>57</th>\n",
       "      <td>8.jpg</td>\n",
       "      <td>./Manganelo-Manga-Downloader/Download/Dear Tyr...</td>\n",
       "      <td>Dear Tyrant</td>\n",
       "    </tr>\n",
       "    <tr>\n",
       "      <th>58</th>\n",
       "      <td>9.jpg</td>\n",
       "      <td>./Manganelo-Manga-Downloader/Download/Dear Tyr...</td>\n",
       "      <td>Dear Tyrant</td>\n",
       "    </tr>\n",
       "    <tr>\n",
       "      <th>59</th>\n",
       "      <td>1.jpg</td>\n",
       "      <td>./Manganelo-Manga-Downloader/Download/The Tsun...</td>\n",
       "      <td>The Tsuntsuntsuntsuntsuntsun Tsuntsuntsuntsunt...</td>\n",
       "    </tr>\n",
       "    <tr>\n",
       "      <th>60</th>\n",
       "      <td>1.jpg</td>\n",
       "      <td>./Manganelo-Manga-Downloader/Download/The Tsun...</td>\n",
       "      <td>The Tsuntsuntsuntsuntsuntsun Tsuntsuntsuntsunt...</td>\n",
       "    </tr>\n",
       "  </tbody>\n",
       "</table>\n",
       "<p>61 rows × 3 columns</p>\n",
       "</div>"
      ],
      "text/plain": [
       "      page                                               path  \\\n",
       "0    1.jpg  ./Manganelo-Manga-Downloader/Download/Dear Tyr...   \n",
       "1   10.jpg  ./Manganelo-Manga-Downloader/Download/Dear Tyr...   \n",
       "2   11.jpg  ./Manganelo-Manga-Downloader/Download/Dear Tyr...   \n",
       "3   12.jpg  ./Manganelo-Manga-Downloader/Download/Dear Tyr...   \n",
       "4   13.jpg  ./Manganelo-Manga-Downloader/Download/Dear Tyr...   \n",
       "..     ...                                                ...   \n",
       "56   7.jpg  ./Manganelo-Manga-Downloader/Download/Dear Tyr...   \n",
       "57   8.jpg  ./Manganelo-Manga-Downloader/Download/Dear Tyr...   \n",
       "58   9.jpg  ./Manganelo-Manga-Downloader/Download/Dear Tyr...   \n",
       "59   1.jpg  ./Manganelo-Manga-Downloader/Download/The Tsun...   \n",
       "60   1.jpg  ./Manganelo-Manga-Downloader/Download/The Tsun...   \n",
       "\n",
       "                                                story  \n",
       "0                                         Dear Tyrant  \n",
       "1                                         Dear Tyrant  \n",
       "2                                         Dear Tyrant  \n",
       "3                                         Dear Tyrant  \n",
       "4                                         Dear Tyrant  \n",
       "..                                                ...  \n",
       "56                                        Dear Tyrant  \n",
       "57                                        Dear Tyrant  \n",
       "58                                        Dear Tyrant  \n",
       "59  The Tsuntsuntsuntsuntsuntsun Tsuntsuntsuntsunt...  \n",
       "60  The Tsuntsuntsuntsuntsuntsun Tsuntsuntsuntsunt...  \n",
       "\n",
       "[61 rows x 3 columns]"
      ]
     },
     "execution_count": 26,
     "metadata": {},
     "output_type": "execute_result"
    }
   ],
   "source": [
    "data_dir"
   ]
  },
  {
   "cell_type": "code",
   "execution_count": 27,
   "metadata": {},
   "outputs": [
    {
     "name": "stderr",
     "output_type": "stream",
     "text": [
      "100%|██████████| 61/61 [00:01<00:00, 57.44it/s]\n"
     ]
    }
   ],
   "source": [
    "import shutil\n",
    "# copy all file to ./dataset and renamed\n",
    "for i in tqdm(range(len(data_dir))):\n",
    "    shutil.copy(data_dir['path'][i], \"./dataset/\" + data_dir['story'][i] + \"_\" + str(i) + \".jpg\")"
   ]
  },
  {
   "cell_type": "code",
   "execution_count": null,
   "metadata": {},
   "outputs": [],
   "source": []
  }
 ],
 "metadata": {
  "kernelspec": {
   "display_name": "Python 3.7.13 ('tensorflow-env37')",
   "language": "python",
   "name": "python3"
  },
  "language_info": {
   "codemirror_mode": {
    "name": "ipython",
    "version": 3
   },
   "file_extension": ".py",
   "mimetype": "text/x-python",
   "name": "python",
   "nbconvert_exporter": "python",
   "pygments_lexer": "ipython3",
   "version": "3.7.13"
  },
  "orig_nbformat": 4,
  "vscode": {
   "interpreter": {
    "hash": "b6a3c604757dc44a08353a4ec1a949c43a541a79879a7886a9e1023196d822de"
   }
  }
 },
 "nbformat": 4,
 "nbformat_minor": 2
}
